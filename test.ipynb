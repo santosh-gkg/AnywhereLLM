{
 "cells": [
  {
   "cell_type": "code",
   "execution_count": 1,
   "metadata": {},
   "outputs": [],
   "source": [
    "import keyboard\n",
    "import openai\n"
   ]
  },
  {
   "cell_type": "code",
   "execution_count": 17,
   "metadata": {},
   "outputs": [],
   "source": [
    "openai.api_key = 'YOUR_OPENAI_API_KEY'\n",
    "openai.base_url = \"http://localhost:3040/v1/\"\n",
    "\n",
    "def fetch_autocomplete(text):\n",
    "    preprompt=\"please complete the following task: \\n \"\n",
    "    preprompt+=text\n",
    "    \n",
    "    completion = openai.chat.completions.create(\n",
    "        model=\"gpt-3.5-turbo\",\n",
    "        messages=[\n",
    "            {\"role\": \"user\", \"content\": preprompt},\n",
    "        ],\n",
    "    )\n",
    "    return completion.choices[0].message.content"
   ]
  },
  {
   "cell_type": "code",
   "execution_count": 20,
   "metadata": {},
   "outputs": [
    {
     "name": "stdout",
     "output_type": "stream",
     "text": [
      "Elon Musk.\n"
     ]
    }
   ],
   "source": [
    "print(fetch_autocomplete(\"the ceo of tesla is \"))"
   ]
  },
  {
   "cell_type": "code",
   "execution_count": 21,
   "metadata": {},
   "outputs": [],
   "source": [
    "last_sentence=\"\""
   ]
  },
  {
   "cell_type": "code",
   "execution_count": 23,
   "metadata": {},
   "outputs": [
    {
     "name": "stdout",
     "output_type": "stream",
     "text": [
      "[KeyboardEvent(h down), KeyboardEvent(h up), KeyboardEvent(o down), KeyboardEvent(o up), KeyboardEvent(w down), KeyboardEvent(space down), KeyboardEvent(w up), KeyboardEvent(space up), KeyboardEvent(a down), KeyboardEvent(r down), KeyboardEvent(a up), KeyboardEvent(e down), KeyboardEvent(r up), KeyboardEvent(e up), KeyboardEvent(y down), KeyboardEvent(y up), KeyboardEvent(backspace down), KeyboardEvent(backspace up), KeyboardEvent(space down), KeyboardEvent(space up), KeyboardEvent(o down), KeyboardEvent(u down), KeyboardEvent(o up), KeyboardEvent(u up), KeyboardEvent(backspace down), KeyboardEvent(backspace up), KeyboardEvent(backspace down), KeyboardEvent(backspace up), KeyboardEvent(y down), KeyboardEvent(y up), KeyboardEvent(o down), KeyboardEvent(u down), KeyboardEvent(o up), KeyboardEvent(space down), KeyboardEvent(u up), KeyboardEvent(space up), KeyboardEvent(m down), KeyboardEvent(m up), KeyboardEvent(i down), KeyboardEvent(i up), KeyboardEvent(s down), KeyboardEvent(s up), KeyboardEvent(t down), KeyboardEvent(e down), KeyboardEvent(t up), KeyboardEvent(r down), KeyboardEvent(e up), KeyboardEvent(r up), KeyboardEvent(space down), KeyboardEvent(space up), KeyboardEvent(r down), KeyboardEvent(o down), KeyboardEvent(r up), KeyboardEvent(o up), KeyboardEvent(b down), KeyboardEvent(b up), KeyboardEvent(o down), KeyboardEvent(o up), KeyboardEvent(t down), KeyboardEvent(t up), KeyboardEvent(space down), KeyboardEvent(space up), KeyboardEvent(esc down)]\n"
     ]
    }
   ],
   "source": [
    "while True:\n",
    "    event=keyboard.read_event()\n",
    "    if event.name\n",
    "    break\n",
    "    "
   ]
  },
  {
   "cell_type": "markdown",
   "metadata": {},
   "source": []
  },
  {
   "cell_type": "code",
   "execution_count": 38,
   "metadata": {},
   "outputs": [],
   "source": [
    "from keyboard import get_typed_strings"
   ]
  },
  {
   "cell_type": "markdown",
   "metadata": {},
   "source": []
  },
  {
   "cell_type": "code",
   "execution_count": 39,
   "metadata": {},
   "outputs": [],
   "source": [
    "typed_strings = get_typed_strings(recorded)"
   ]
  },
  {
   "cell_type": "markdown",
   "metadata": {},
   "source": []
  },
  {
   "cell_type": "markdown",
   "metadata": {},
   "source": []
  },
  {
   "cell_type": "code",
   "execution_count": 42,
   "metadata": {},
   "outputs": [
    {
     "name": "stdout",
     "output_type": "stream",
     "text": [
      "[KeyboardEvent(h down), KeyboardEvent(h up), KeyboardEvent(o down), KeyboardEvent(o up), KeyboardEvent(w down), KeyboardEvent(space down), KeyboardEvent(w up), KeyboardEvent(space up), KeyboardEvent(a down), KeyboardEvent(r down), KeyboardEvent(a up), KeyboardEvent(e down), KeyboardEvent(r up), KeyboardEvent(e up), KeyboardEvent(y down), KeyboardEvent(y up), KeyboardEvent(backspace down), KeyboardEvent(backspace up), KeyboardEvent(space down), KeyboardEvent(space up), KeyboardEvent(o down), KeyboardEvent(u down), KeyboardEvent(o up), KeyboardEvent(u up), KeyboardEvent(backspace down), KeyboardEvent(backspace up), KeyboardEvent(backspace down), KeyboardEvent(backspace up), KeyboardEvent(y down), KeyboardEvent(y up), KeyboardEvent(o down), KeyboardEvent(u down), KeyboardEvent(o up), KeyboardEvent(space down), KeyboardEvent(u up), KeyboardEvent(space up), KeyboardEvent(m down), KeyboardEvent(m up), KeyboardEvent(i down), KeyboardEvent(i up), KeyboardEvent(s down), KeyboardEvent(s up), KeyboardEvent(t down), KeyboardEvent(e down), KeyboardEvent(t up), KeyboardEvent(r down), KeyboardEvent(e up), KeyboardEvent(r up), KeyboardEvent(space down), KeyboardEvent(space up), KeyboardEvent(r down), KeyboardEvent(o down), KeyboardEvent(r up), KeyboardEvent(o up), KeyboardEvent(b down), KeyboardEvent(b up), KeyboardEvent(o down), KeyboardEvent(o up), KeyboardEvent(t down), KeyboardEvent(t up), KeyboardEvent(space down), KeyboardEvent(space up), KeyboardEvent(esc down)]\n"
     ]
    }
   ],
   "source": [
    "print(recorded)"
   ]
  },
  {
   "cell_type": "code",
   "execution_count": 44,
   "metadata": {},
   "outputs": [],
   "source": []
  },
  {
   "cell_type": "code",
   "execution_count": 74,
   "metadata": {},
   "outputs": [],
   "source": [
    "events=[]\n",
    "\n",
    "while True:\n",
    "    event=keyboard.read_event()\n",
    "    if event.name==\"shift\":\n",
    "        typed_strings = list(get_typed_strings(events))\n",
    "        typethis=fetch_autocomplete(typed_strings[-1])\n",
    "        keyboard.write(typethis)\n",
    "        events=[]\n",
    "    elif event.name==\"ctrl\":\n",
    "        break\n",
    "    else:\n",
    "        events.append(event)\n",
    "        "
   ]
  },
  {
   "cell_type": "code",
   "execution_count": 68,
   "metadata": {},
   "outputs": [
    {
     "name": "stdout",
     "output_type": "stream",
     "text": [
      "['']\n"
     ]
    }
   ],
   "source": [
    "typed_strings = list(get_typed_strings(events))\n",
    "print(typed_strings)"
   ]
  },
  {
   "cell_type": "code",
   "execution_count": 62,
   "metadata": {},
   "outputs": [
    {
     "data": {
      "text/plain": [
       "str"
      ]
     },
     "execution_count": 62,
     "metadata": {},
     "output_type": "execute_result"
    }
   ],
   "source": []
  },
  {
   "cell_type": "code",
   "execution_count": null,
   "metadata": {},
   "outputs": [],
   "source": []
  }
 ],
 "metadata": {
  "kernelspec": {
   "display_name": "Python 3",
   "language": "python",
   "name": "python3"
  },
  "language_info": {
   "codemirror_mode": {
    "name": "ipython",
    "version": 3
   },
   "file_extension": ".py",
   "mimetype": "text/x-python",
   "name": "python",
   "nbconvert_exporter": "python",
   "pygments_lexer": "ipython3",
   "version": "3.12.1"
  }
 },
 "nbformat": 4,
 "nbformat_minor": 2
}
